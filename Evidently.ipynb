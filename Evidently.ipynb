{
  "nbformat": 4,
  "nbformat_minor": 0,
  "metadata": {
    "colab": {
      "provenance": []
    },
    "kernelspec": {
      "name": "python3",
      "display_name": "Python 3"
    },
    "language_info": {
      "name": "python"
    }
  },
  "cells": [
    {
      "cell_type": "code",
      "execution_count": 1,
      "metadata": {
        "colab": {
          "base_uri": "https://localhost:8080/"
        },
        "id": "k_9gMFcxej3K",
        "outputId": "879a56e2-523e-4e7d-ba7f-ef16f53755f6"
      },
      "outputs": [
        {
          "output_type": "stream",
          "name": "stdout",
          "text": [
            "Looking in indexes: https://pypi.org/simple, https://us-python.pkg.dev/colab-wheels/public/simple/\n",
            "Requirement already satisfied: evidently==0.3.0 in /usr/local/lib/python3.9/dist-packages (0.3.0)\n",
            "Requirement already satisfied: umap-learn>=0.5.3 in /usr/local/lib/python3.9/dist-packages (from evidently==0.3.0) (0.5.3)\n",
            "Requirement already satisfied: plotly>=5.5.0 in /usr/local/lib/python3.9/dist-packages (from evidently==0.3.0) (5.13.1)\n",
            "Requirement already satisfied: requests>=2.19.0 in /usr/local/lib/python3.9/dist-packages (from evidently==0.3.0) (2.27.1)\n",
            "Requirement already satisfied: numpy>=1.19.5 in /usr/local/lib/python3.9/dist-packages (from evidently==0.3.0) (1.22.4)\n",
            "Requirement already satisfied: pandas>=1.3.5 in /usr/local/lib/python3.9/dist-packages (from evidently==0.3.0) (1.5.3)\n",
            "Requirement already satisfied: scikit-learn>=0.24.0 in /usr/local/lib/python3.9/dist-packages (from evidently==0.3.0) (1.2.2)\n",
            "Requirement already satisfied: statsmodels>=0.12.2 in /usr/local/lib/python3.9/dist-packages (from evidently==0.3.0) (0.13.5)\n",
            "Requirement already satisfied: scipy>=1.5.4 in /usr/local/lib/python3.9/dist-packages (from evidently==0.3.0) (1.10.1)\n",
            "Requirement already satisfied: PyYAML>=5.1 in /usr/local/lib/python3.9/dist-packages (from evidently==0.3.0) (6.0)\n",
            "Requirement already satisfied: nltk>=3.6.7 in /usr/local/lib/python3.9/dist-packages (from evidently==0.3.0) (3.8.1)\n",
            "Requirement already satisfied: pydantic<2 in /usr/local/lib/python3.9/dist-packages (from evidently==0.3.0) (1.10.7)\n",
            "Requirement already satisfied: regex>=2021.8.3 in /usr/local/lib/python3.9/dist-packages (from nltk>=3.6.7->evidently==0.3.0) (2022.10.31)\n",
            "Requirement already satisfied: joblib in /usr/local/lib/python3.9/dist-packages (from nltk>=3.6.7->evidently==0.3.0) (1.2.0)\n",
            "Requirement already satisfied: click in /usr/local/lib/python3.9/dist-packages (from nltk>=3.6.7->evidently==0.3.0) (8.1.3)\n",
            "Requirement already satisfied: tqdm in /usr/local/lib/python3.9/dist-packages (from nltk>=3.6.7->evidently==0.3.0) (4.65.0)\n",
            "Requirement already satisfied: pytz>=2020.1 in /usr/local/lib/python3.9/dist-packages (from pandas>=1.3.5->evidently==0.3.0) (2022.7.1)\n",
            "Requirement already satisfied: python-dateutil>=2.8.1 in /usr/local/lib/python3.9/dist-packages (from pandas>=1.3.5->evidently==0.3.0) (2.8.2)\n",
            "Requirement already satisfied: tenacity>=6.2.0 in /usr/local/lib/python3.9/dist-packages (from plotly>=5.5.0->evidently==0.3.0) (8.2.2)\n",
            "Requirement already satisfied: typing-extensions>=4.2.0 in /usr/local/lib/python3.9/dist-packages (from pydantic<2->evidently==0.3.0) (4.5.0)\n",
            "Requirement already satisfied: idna<4,>=2.5 in /usr/local/lib/python3.9/dist-packages (from requests>=2.19.0->evidently==0.3.0) (3.4)\n",
            "Requirement already satisfied: certifi>=2017.4.17 in /usr/local/lib/python3.9/dist-packages (from requests>=2.19.0->evidently==0.3.0) (2022.12.7)\n",
            "Requirement already satisfied: charset-normalizer~=2.0.0 in /usr/local/lib/python3.9/dist-packages (from requests>=2.19.0->evidently==0.3.0) (2.0.12)\n",
            "Requirement already satisfied: urllib3<1.27,>=1.21.1 in /usr/local/lib/python3.9/dist-packages (from requests>=2.19.0->evidently==0.3.0) (1.26.15)\n",
            "Requirement already satisfied: threadpoolctl>=2.0.0 in /usr/local/lib/python3.9/dist-packages (from scikit-learn>=0.24.0->evidently==0.3.0) (3.1.0)\n",
            "Requirement already satisfied: patsy>=0.5.2 in /usr/local/lib/python3.9/dist-packages (from statsmodels>=0.12.2->evidently==0.3.0) (0.5.3)\n",
            "Requirement already satisfied: packaging>=21.3 in /usr/local/lib/python3.9/dist-packages (from statsmodels>=0.12.2->evidently==0.3.0) (23.0)\n",
            "Requirement already satisfied: pynndescent>=0.5 in /usr/local/lib/python3.9/dist-packages (from umap-learn>=0.5.3->evidently==0.3.0) (0.5.9)\n",
            "Requirement already satisfied: numba>=0.49 in /usr/local/lib/python3.9/dist-packages (from umap-learn>=0.5.3->evidently==0.3.0) (0.56.4)\n",
            "Requirement already satisfied: setuptools in /usr/local/lib/python3.9/dist-packages (from numba>=0.49->umap-learn>=0.5.3->evidently==0.3.0) (67.6.1)\n",
            "Requirement already satisfied: llvmlite<0.40,>=0.39.0dev0 in /usr/local/lib/python3.9/dist-packages (from numba>=0.49->umap-learn>=0.5.3->evidently==0.3.0) (0.39.1)\n",
            "Requirement already satisfied: six in /usr/local/lib/python3.9/dist-packages (from patsy>=0.5.2->statsmodels>=0.12.2->evidently==0.3.0) (1.16.0)\n"
          ]
        }
      ],
      "source": [
        "!pip install evidently==0.3.0"
      ]
    },
    {
      "cell_type": "code",
      "source": [
        "import pandas as pd\n",
        "import pickle\n",
        "\n",
        "from sklearn import datasets\n",
        "\n",
        "from evidently.test_suite import TestSuite\n",
        "from evidently.test_preset import DataStabilityTestPreset\n",
        "from evidently.test_preset import BinaryClassificationTestPreset\n",
        "\n",
        "from evidently.report import Report\n",
        "from evidently.metric_preset import DataDriftPreset"
      ],
      "metadata": {
        "id": "i3-dQuG8e6VA"
      },
      "execution_count": 2,
      "outputs": []
    },
    {
      "cell_type": "markdown",
      "source": [
        "# Data Drift Report"
      ],
      "metadata": {
        "id": "qPI4FUHfgvY5"
      }
    },
    {
      "cell_type": "code",
      "source": [
        "df = pd.read_csv('/content/drive/MyDrive/Formation Data Science/Projet 7/df.csv')\n",
        "df.head()\n",
        "cols_ = list(df.columns)\n",
        "cols_.remove('TARGET')\n",
        "cols_.remove('NAME_FAMILY_STATUS_Unknown')\n",
        "cols_.remove('NAME_INCOME_TYPE_Maternity leave')\n",
        "df = df[cols_]\n",
        "df_test = pd.read_csv('/content/drive/MyDrive/Formation Data Science/Projet 7/df_test.csv')\n",
        "df_test.head()"
      ],
      "metadata": {
        "colab": {
          "base_uri": "https://localhost:8080/",
          "height": 300
        },
        "id": "qmuqEETLfKFk",
        "outputId": "4724e79f-72ca-44ae-da3e-c8d7e7024d2b"
      },
      "execution_count": 3,
      "outputs": [
        {
          "output_type": "execute_result",
          "data": {
            "text/plain": [
              "   SK_ID_CURR  CODE_GENDER  FLAG_OWN_CAR  FLAG_OWN_REALTY  CNT_CHILDREN  \\\n",
              "0      100001            0             0                0             0   \n",
              "1      100005            1             0                0             0   \n",
              "2      100013            1             1                0             0   \n",
              "3      100028            0             0                0             2   \n",
              "4      100038            1             1                1             1   \n",
              "\n",
              "   AMT_INCOME_TOTAL  AMT_CREDIT  AMT_ANNUITY  AMT_GOODS_PRICE  \\\n",
              "0          135000.0    568800.0      20560.5         450000.0   \n",
              "1           99000.0    222768.0      17370.0         180000.0   \n",
              "2          202500.0    663264.0      69777.0         630000.0   \n",
              "3          315000.0   1575000.0      49018.5        1575000.0   \n",
              "4          180000.0    625500.0      32067.0         625500.0   \n",
              "\n",
              "   REGION_POPULATION_RELATIVE  ...  CC_NAME_CONTRACT_STATUS_Signed_MAX  \\\n",
              "0                    0.018850  ...                                 NaN   \n",
              "1                    0.035792  ...                                 NaN   \n",
              "2                    0.019101  ...                                 0.0   \n",
              "3                    0.026392  ...                                 0.0   \n",
              "4                    0.010032  ...                                 NaN   \n",
              "\n",
              "   CC_NAME_CONTRACT_STATUS_Signed_MEAN  CC_NAME_CONTRACT_STATUS_Signed_SUM  \\\n",
              "0                                  NaN                                 NaN   \n",
              "1                                  NaN                                 NaN   \n",
              "2                                  0.0                                 0.0   \n",
              "3                                  0.0                                 0.0   \n",
              "4                                  NaN                                 NaN   \n",
              "\n",
              "   CC_NAME_CONTRACT_STATUS_Signed_VAR  CC_NAME_CONTRACT_STATUS_nan_MIN  \\\n",
              "0                                 NaN                              NaN   \n",
              "1                                 NaN                              NaN   \n",
              "2                                 0.0                              0.0   \n",
              "3                                 0.0                              0.0   \n",
              "4                                 NaN                              NaN   \n",
              "\n",
              "   CC_NAME_CONTRACT_STATUS_nan_MAX  CC_NAME_CONTRACT_STATUS_nan_MEAN  \\\n",
              "0                              NaN                               NaN   \n",
              "1                              NaN                               NaN   \n",
              "2                              0.0                               0.0   \n",
              "3                              0.0                               0.0   \n",
              "4                              NaN                               NaN   \n",
              "\n",
              "   CC_NAME_CONTRACT_STATUS_nan_SUM  CC_NAME_CONTRACT_STATUS_nan_VAR  CC_COUNT  \n",
              "0                              NaN                              NaN       NaN  \n",
              "1                              NaN                              NaN       NaN  \n",
              "2                              0.0                              0.0      96.0  \n",
              "3                              0.0                              0.0      49.0  \n",
              "4                              NaN                              NaN       NaN  \n",
              "\n",
              "[5 rows x 794 columns]"
            ],
            "text/html": [
              "\n",
              "  <div id=\"df-1713f4b6-71d6-4d1b-9bae-715928b5a82b\">\n",
              "    <div class=\"colab-df-container\">\n",
              "      <div>\n",
              "<style scoped>\n",
              "    .dataframe tbody tr th:only-of-type {\n",
              "        vertical-align: middle;\n",
              "    }\n",
              "\n",
              "    .dataframe tbody tr th {\n",
              "        vertical-align: top;\n",
              "    }\n",
              "\n",
              "    .dataframe thead th {\n",
              "        text-align: right;\n",
              "    }\n",
              "</style>\n",
              "<table border=\"1\" class=\"dataframe\">\n",
              "  <thead>\n",
              "    <tr style=\"text-align: right;\">\n",
              "      <th></th>\n",
              "      <th>SK_ID_CURR</th>\n",
              "      <th>CODE_GENDER</th>\n",
              "      <th>FLAG_OWN_CAR</th>\n",
              "      <th>FLAG_OWN_REALTY</th>\n",
              "      <th>CNT_CHILDREN</th>\n",
              "      <th>AMT_INCOME_TOTAL</th>\n",
              "      <th>AMT_CREDIT</th>\n",
              "      <th>AMT_ANNUITY</th>\n",
              "      <th>AMT_GOODS_PRICE</th>\n",
              "      <th>REGION_POPULATION_RELATIVE</th>\n",
              "      <th>...</th>\n",
              "      <th>CC_NAME_CONTRACT_STATUS_Signed_MAX</th>\n",
              "      <th>CC_NAME_CONTRACT_STATUS_Signed_MEAN</th>\n",
              "      <th>CC_NAME_CONTRACT_STATUS_Signed_SUM</th>\n",
              "      <th>CC_NAME_CONTRACT_STATUS_Signed_VAR</th>\n",
              "      <th>CC_NAME_CONTRACT_STATUS_nan_MIN</th>\n",
              "      <th>CC_NAME_CONTRACT_STATUS_nan_MAX</th>\n",
              "      <th>CC_NAME_CONTRACT_STATUS_nan_MEAN</th>\n",
              "      <th>CC_NAME_CONTRACT_STATUS_nan_SUM</th>\n",
              "      <th>CC_NAME_CONTRACT_STATUS_nan_VAR</th>\n",
              "      <th>CC_COUNT</th>\n",
              "    </tr>\n",
              "  </thead>\n",
              "  <tbody>\n",
              "    <tr>\n",
              "      <th>0</th>\n",
              "      <td>100001</td>\n",
              "      <td>0</td>\n",
              "      <td>0</td>\n",
              "      <td>0</td>\n",
              "      <td>0</td>\n",
              "      <td>135000.0</td>\n",
              "      <td>568800.0</td>\n",
              "      <td>20560.5</td>\n",
              "      <td>450000.0</td>\n",
              "      <td>0.018850</td>\n",
              "      <td>...</td>\n",
              "      <td>NaN</td>\n",
              "      <td>NaN</td>\n",
              "      <td>NaN</td>\n",
              "      <td>NaN</td>\n",
              "      <td>NaN</td>\n",
              "      <td>NaN</td>\n",
              "      <td>NaN</td>\n",
              "      <td>NaN</td>\n",
              "      <td>NaN</td>\n",
              "      <td>NaN</td>\n",
              "    </tr>\n",
              "    <tr>\n",
              "      <th>1</th>\n",
              "      <td>100005</td>\n",
              "      <td>1</td>\n",
              "      <td>0</td>\n",
              "      <td>0</td>\n",
              "      <td>0</td>\n",
              "      <td>99000.0</td>\n",
              "      <td>222768.0</td>\n",
              "      <td>17370.0</td>\n",
              "      <td>180000.0</td>\n",
              "      <td>0.035792</td>\n",
              "      <td>...</td>\n",
              "      <td>NaN</td>\n",
              "      <td>NaN</td>\n",
              "      <td>NaN</td>\n",
              "      <td>NaN</td>\n",
              "      <td>NaN</td>\n",
              "      <td>NaN</td>\n",
              "      <td>NaN</td>\n",
              "      <td>NaN</td>\n",
              "      <td>NaN</td>\n",
              "      <td>NaN</td>\n",
              "    </tr>\n",
              "    <tr>\n",
              "      <th>2</th>\n",
              "      <td>100013</td>\n",
              "      <td>1</td>\n",
              "      <td>1</td>\n",
              "      <td>0</td>\n",
              "      <td>0</td>\n",
              "      <td>202500.0</td>\n",
              "      <td>663264.0</td>\n",
              "      <td>69777.0</td>\n",
              "      <td>630000.0</td>\n",
              "      <td>0.019101</td>\n",
              "      <td>...</td>\n",
              "      <td>0.0</td>\n",
              "      <td>0.0</td>\n",
              "      <td>0.0</td>\n",
              "      <td>0.0</td>\n",
              "      <td>0.0</td>\n",
              "      <td>0.0</td>\n",
              "      <td>0.0</td>\n",
              "      <td>0.0</td>\n",
              "      <td>0.0</td>\n",
              "      <td>96.0</td>\n",
              "    </tr>\n",
              "    <tr>\n",
              "      <th>3</th>\n",
              "      <td>100028</td>\n",
              "      <td>0</td>\n",
              "      <td>0</td>\n",
              "      <td>0</td>\n",
              "      <td>2</td>\n",
              "      <td>315000.0</td>\n",
              "      <td>1575000.0</td>\n",
              "      <td>49018.5</td>\n",
              "      <td>1575000.0</td>\n",
              "      <td>0.026392</td>\n",
              "      <td>...</td>\n",
              "      <td>0.0</td>\n",
              "      <td>0.0</td>\n",
              "      <td>0.0</td>\n",
              "      <td>0.0</td>\n",
              "      <td>0.0</td>\n",
              "      <td>0.0</td>\n",
              "      <td>0.0</td>\n",
              "      <td>0.0</td>\n",
              "      <td>0.0</td>\n",
              "      <td>49.0</td>\n",
              "    </tr>\n",
              "    <tr>\n",
              "      <th>4</th>\n",
              "      <td>100038</td>\n",
              "      <td>1</td>\n",
              "      <td>1</td>\n",
              "      <td>1</td>\n",
              "      <td>1</td>\n",
              "      <td>180000.0</td>\n",
              "      <td>625500.0</td>\n",
              "      <td>32067.0</td>\n",
              "      <td>625500.0</td>\n",
              "      <td>0.010032</td>\n",
              "      <td>...</td>\n",
              "      <td>NaN</td>\n",
              "      <td>NaN</td>\n",
              "      <td>NaN</td>\n",
              "      <td>NaN</td>\n",
              "      <td>NaN</td>\n",
              "      <td>NaN</td>\n",
              "      <td>NaN</td>\n",
              "      <td>NaN</td>\n",
              "      <td>NaN</td>\n",
              "      <td>NaN</td>\n",
              "    </tr>\n",
              "  </tbody>\n",
              "</table>\n",
              "<p>5 rows × 794 columns</p>\n",
              "</div>\n",
              "      <button class=\"colab-df-convert\" onclick=\"convertToInteractive('df-1713f4b6-71d6-4d1b-9bae-715928b5a82b')\"\n",
              "              title=\"Convert this dataframe to an interactive table.\"\n",
              "              style=\"display:none;\">\n",
              "        \n",
              "  <svg xmlns=\"http://www.w3.org/2000/svg\" height=\"24px\"viewBox=\"0 0 24 24\"\n",
              "       width=\"24px\">\n",
              "    <path d=\"M0 0h24v24H0V0z\" fill=\"none\"/>\n",
              "    <path d=\"M18.56 5.44l.94 2.06.94-2.06 2.06-.94-2.06-.94-.94-2.06-.94 2.06-2.06.94zm-11 1L8.5 8.5l.94-2.06 2.06-.94-2.06-.94L8.5 2.5l-.94 2.06-2.06.94zm10 10l.94 2.06.94-2.06 2.06-.94-2.06-.94-.94-2.06-.94 2.06-2.06.94z\"/><path d=\"M17.41 7.96l-1.37-1.37c-.4-.4-.92-.59-1.43-.59-.52 0-1.04.2-1.43.59L10.3 9.45l-7.72 7.72c-.78.78-.78 2.05 0 2.83L4 21.41c.39.39.9.59 1.41.59.51 0 1.02-.2 1.41-.59l7.78-7.78 2.81-2.81c.8-.78.8-2.07 0-2.86zM5.41 20L4 18.59l7.72-7.72 1.47 1.35L5.41 20z\"/>\n",
              "  </svg>\n",
              "      </button>\n",
              "      \n",
              "  <style>\n",
              "    .colab-df-container {\n",
              "      display:flex;\n",
              "      flex-wrap:wrap;\n",
              "      gap: 12px;\n",
              "    }\n",
              "\n",
              "    .colab-df-convert {\n",
              "      background-color: #E8F0FE;\n",
              "      border: none;\n",
              "      border-radius: 50%;\n",
              "      cursor: pointer;\n",
              "      display: none;\n",
              "      fill: #1967D2;\n",
              "      height: 32px;\n",
              "      padding: 0 0 0 0;\n",
              "      width: 32px;\n",
              "    }\n",
              "\n",
              "    .colab-df-convert:hover {\n",
              "      background-color: #E2EBFA;\n",
              "      box-shadow: 0px 1px 2px rgba(60, 64, 67, 0.3), 0px 1px 3px 1px rgba(60, 64, 67, 0.15);\n",
              "      fill: #174EA6;\n",
              "    }\n",
              "\n",
              "    [theme=dark] .colab-df-convert {\n",
              "      background-color: #3B4455;\n",
              "      fill: #D2E3FC;\n",
              "    }\n",
              "\n",
              "    [theme=dark] .colab-df-convert:hover {\n",
              "      background-color: #434B5C;\n",
              "      box-shadow: 0px 1px 3px 1px rgba(0, 0, 0, 0.15);\n",
              "      filter: drop-shadow(0px 1px 2px rgba(0, 0, 0, 0.3));\n",
              "      fill: #FFFFFF;\n",
              "    }\n",
              "  </style>\n",
              "\n",
              "      <script>\n",
              "        const buttonEl =\n",
              "          document.querySelector('#df-1713f4b6-71d6-4d1b-9bae-715928b5a82b button.colab-df-convert');\n",
              "        buttonEl.style.display =\n",
              "          google.colab.kernel.accessAllowed ? 'block' : 'none';\n",
              "\n",
              "        async function convertToInteractive(key) {\n",
              "          const element = document.querySelector('#df-1713f4b6-71d6-4d1b-9bae-715928b5a82b');\n",
              "          const dataTable =\n",
              "            await google.colab.kernel.invokeFunction('convertToInteractive',\n",
              "                                                     [key], {});\n",
              "          if (!dataTable) return;\n",
              "\n",
              "          const docLinkHtml = 'Like what you see? Visit the ' +\n",
              "            '<a target=\"_blank\" href=https://colab.research.google.com/notebooks/data_table.ipynb>data table notebook</a>'\n",
              "            + ' to learn more about interactive tables.';\n",
              "          element.innerHTML = '';\n",
              "          dataTable['output_type'] = 'display_data';\n",
              "          await google.colab.output.renderOutput(dataTable, element);\n",
              "          const docLink = document.createElement('div');\n",
              "          docLink.innerHTML = docLinkHtml;\n",
              "          element.appendChild(docLink);\n",
              "        }\n",
              "      </script>\n",
              "    </div>\n",
              "  </div>\n",
              "  "
            ]
          },
          "metadata": {},
          "execution_count": 3
        }
      ]
    },
    {
      "cell_type": "code",
      "source": [
        "data_drift_report = Report(metrics=[\n",
        "    DataDriftPreset(),\n",
        "])\n",
        "\n",
        "data_drift_report.run(current_data=df_test[:10000], reference_data=df[:10000], column_mapping=None)\n",
        "data_drift_report"
      ],
      "metadata": {
        "id": "EQxM1kr-fMG_"
      },
      "execution_count": null,
      "outputs": []
    },
    {
      "cell_type": "code",
      "source": [
        "data_drift_report.save_html(\"/content/drive/MyDrive/Formation Data Science/Projet 7/data_drift_report.html\")"
      ],
      "metadata": {
        "id": "V2qYOdRwv23A"
      },
      "execution_count": null,
      "outputs": []
    },
    {
      "cell_type": "code",
      "source": [
        "cols_ = ['AMT_GOODS_PRICE', 'BURO_CREDIT_TYPE_Consumer credit_MEAN', 'BURO_CREDIT_TYPE_Credit card_MEAN', 'AMT_CREDIT', 'EXT_SOURCE_2', 'EXT_SOURCE_3', \n",
        "         'CC_AMT_DRAWINGS_CURRENT_SUM', 'BURO_CREDIT_TYPE_Mortgage_MEAN', 'BURO_CREDIT_TYPE_Car loan_MEAN', 'FLAG_DOCUMENT_3']\n",
        "for col in cols_:\n",
        "    if not col in df.columns:\n",
        "        print(f\"Problem for: {col}\")\n",
        "sub_df = df.loc[:,cols_]\n",
        "sub_df_test = df_test.loc[:,cols_]"
      ],
      "metadata": {
        "id": "RcS09QSmGAzg"
      },
      "execution_count": null,
      "outputs": []
    },
    {
      "cell_type": "code",
      "source": [
        "print(sub_df.shape)\n",
        "print(sub_df_test.shape)"
      ],
      "metadata": {
        "id": "Y0FIDNjgN3-L"
      },
      "execution_count": null,
      "outputs": []
    },
    {
      "cell_type": "code",
      "source": [
        "data_drift_report = Report(metrics=[\n",
        "    DataDriftPreset(),\n",
        "])\n",
        "data_drift_report.run(current_data=sub_df_test, reference_data=sub_df, column_mapping=None)\n",
        "data_drift_report"
      ],
      "metadata": {
        "id": "yc25QadbGclV"
      },
      "execution_count": null,
      "outputs": []
    },
    {
      "cell_type": "code",
      "source": [
        "data_drift_report.save_html(\"/content/drive/MyDrive/Formation Data Science/Projet 7/data_drift_partial_report.html\")"
      ],
      "metadata": {
        "id": "dfRHMEUvV4_n"
      },
      "execution_count": null,
      "outputs": []
    },
    {
      "cell_type": "markdown",
      "source": [
        "# Model stability study"
      ],
      "metadata": {
        "id": "yg6PSJEIgpg1"
      }
    },
    {
      "cell_type": "code",
      "source": [
        "df = pd.read_csv('/content/drive/MyDrive/Formation Data Science/Projet 7/df.csv')\n",
        "df.head()\n",
        "MODEL = pickle.load(open('/content/drive/MyDrive/Formation Data Science/Projet 7/best_model_2.pkl', 'rb'))\n",
        "X = pickle.load(open('/content/drive/MyDrive/Formation Data Science/Projet 7/X.pkl', 'rb'))\n",
        "X['target'] = df['TARGET']"
      ],
      "metadata": {
        "id": "Hqg8hOordEiR"
      },
      "execution_count": null,
      "outputs": []
    },
    {
      "cell_type": "code",
      "source": [
        "x_cols = list(X.columns)\n",
        "x_cols.remove('target')\n",
        "x_cols.remove('SK_ID_CURR')\n",
        "print(len(x_cols))\n",
        "print('target' in X.loc[:,x_cols].columns)"
      ],
      "metadata": {
        "id": "3X7QMQ-cdgHb"
      },
      "execution_count": null,
      "outputs": []
    },
    {
      "cell_type": "code",
      "source": [
        "predictions = MODEL.predict(X.loc[:,x_cols])"
      ],
      "metadata": {
        "id": "HRPqw_yJeoh5"
      },
      "execution_count": null,
      "outputs": []
    },
    {
      "cell_type": "code",
      "source": [
        "X['prediction'] = predictions"
      ],
      "metadata": {
        "id": "4raeGtiRe2qX"
      },
      "execution_count": null,
      "outputs": []
    },
    {
      "cell_type": "code",
      "source": [
        "print(X['prediction'].value_counts())"
      ],
      "metadata": {
        "id": "O2x540SEe_9d"
      },
      "execution_count": null,
      "outputs": []
    },
    {
      "cell_type": "code",
      "source": [
        "label_binary_classification_performance = TestSuite(tests=[\n",
        "    BinaryClassificationTestPreset(),\n",
        "])\n",
        "\n",
        "label_binary_classification_performance.run(reference_data=X.iloc[:25000], current_data=X.iloc[290000:])\n",
        "label_binary_classification_performance"
      ],
      "metadata": {
        "id": "4kfUHCqfWHsv"
      },
      "execution_count": null,
      "outputs": []
    },
    {
      "cell_type": "code",
      "source": [
        "label_binary_classification_performance.save_html(\"/content/drive/MyDrive/Formation Data Science/Projet 7/label_binary_classification_performance.html\")"
      ],
      "metadata": {
        "id": "7kQDA63SfhYh"
      },
      "execution_count": null,
      "outputs": []
    }
  ]
}